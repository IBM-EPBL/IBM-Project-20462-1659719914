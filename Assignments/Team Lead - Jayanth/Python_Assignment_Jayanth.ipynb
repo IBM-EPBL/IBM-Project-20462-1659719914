{
  "nbformat": 4,
  "nbformat_minor": 0,
  "metadata": {
    "colab": {
      "provenance": []
    },
    "kernelspec": {
      "name": "python3",
      "display_name": "Python 3"
    },
    "language_info": {
      "name": "python"
    }
  },
  "cells": [
    {
      "cell_type": "markdown",
      "source": [
        "## Prime Number"
      ],
      "metadata": {
        "id": "UC03-Qf8jnzg"
      }
    },
    {
      "cell_type": "code",
      "source": [
        "from os import truncate\n",
        "# Prime Number\n",
        "def isPrime(n):\n",
        "  if(n < 2):\n",
        "    return False\n",
        "  flag = True\n",
        "  for i in range(2, n//2 + 1):\n",
        "    if (n % i) == 0:\n",
        "      flag = False\n",
        "      break\n",
        "  return flag\n",
        "\n",
        "num = int(input());\n",
        "result = isPrime(num)\n",
        "print('Prime number' if result else 'Not prime number')"
      ],
      "metadata": {
        "colab": {
          "base_uri": "https://localhost:8080/"
        },
        "id": "XaGldelojm2i",
        "outputId": "d20bb809-ea34-461e-f069-0fb2c78de9bf"
      },
      "execution_count": 9,
      "outputs": [
        {
          "output_type": "stream",
          "name": "stdout",
          "text": [
            "111\n",
            "Not prime number\n"
          ]
        }
      ]
    },
    {
      "cell_type": "markdown",
      "source": [
        "## Fibonacci Series"
      ],
      "metadata": {
        "id": "bnp-Kshvjlsa"
      }
    },
    {
      "cell_type": "code",
      "source": [
        "# Fibonacci sequence\n",
        "num = int(input())\n",
        "\n",
        "n1, n2 = 0, 1\n",
        "count = 0\n",
        "\n",
        "if num <= 0:\n",
        "   print(\"Please enter a positive integer\")\n",
        "\n",
        "elif num == 1:\n",
        "   print(\"Fibonacci sequence upto\",num,\":\")\n",
        "   print(n1)\n",
        "\n",
        "# generate fibonacci sequence\n",
        "else:\n",
        "   print(\"Fibonacci sequence:\")\n",
        "   while count < num:\n",
        "       print(n1)\n",
        "       nth = n1 + n2\n",
        "       n1 = n2\n",
        "       n2 = nth\n",
        "       count += 1"
      ],
      "metadata": {
        "id": "oridh_zXj0ni"
      },
      "execution_count": null,
      "outputs": []
    },
    {
      "cell_type": "markdown",
      "source": [
        "## Generate old numbers from M to N using **while loop**"
      ],
      "metadata": {
        "id": "mwG60RA8jidD"
      }
    },
    {
      "cell_type": "code",
      "source": [
        "# Generate old numbers from M to N using **while loop**\n",
        "\n",
        "def generateNumber(m, n):\n",
        "  for i in range(m, n+1, 2):\n",
        "    yield i\n",
        "  \n",
        "m = int(input())\n",
        "n = int(input())\n",
        "result = generateNumber(m, n)\n",
        "while True:\n",
        "  try:\n",
        "    print(next(result), end=', ')\n",
        "  except:\n",
        "    break\n",
        "print('\\b\\b')\n",
        "  "
      ],
      "metadata": {
        "colab": {
          "base_uri": "https://localhost:8080/"
        },
        "id": "wgM2SYKxmHq1",
        "outputId": "33fe2532-bedc-403f-f335-9139a979cbc4"
      },
      "execution_count": 15,
      "outputs": [
        {
          "output_type": "stream",
          "name": "stdout",
          "text": [
            "3\n",
            "11\n",
            "3, 5, 7, 9, 11, \b\b\n"
          ]
        }
      ]
    },
    {
      "cell_type": "markdown",
      "source": [
        "## Prime number within given range"
      ],
      "metadata": {
        "id": "ae6BStWdmITf"
      }
    },
    {
      "cell_type": "code",
      "source": [
        "\n",
        "num = int(input())\n",
        "\n",
        "arr = [i for i in range(num)]\n",
        "\n",
        "i = 2\n",
        "\n",
        "while i <= num//2:\n",
        "    if(arr[i] != 0):\n",
        "        for j in range(i*2, num, i):\n",
        "            arr[j] = 0\n",
        "    i += 1 \n",
        "\n",
        "\n",
        "for n in arr:\n",
        "    if(n >= 2 and n):\n",
        "        print(n, end = ', ')\n",
        "print('\\b\\b')"
      ],
      "metadata": {
        "colab": {
          "base_uri": "https://localhost:8080/"
        },
        "id": "FhUeSbVWmI6W",
        "outputId": "6923e262-2cd6-4b19-b4f4-389ee7038691"
      },
      "execution_count": 17,
      "outputs": [
        {
          "output_type": "stream",
          "name": "stdout",
          "text": [
            "11\n",
            "2, 3, 5, 7, \b\b\n"
          ]
        }
      ]
    }
  ]
}